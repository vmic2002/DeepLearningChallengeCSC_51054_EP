{
 "cells": [
  {
   "cell_type": "markdown",
   "metadata": {
    "editable": true,
    "id": "WWrRFeKRX-DI",
    "slideshow": {
     "slide_type": ""
    },
    "tags": []
   },
   "source": [
    "# Import libraries and model"
   ]
  },
  {
   "cell_type": "code",
   "execution_count": 67,
   "metadata": {
    "colab": {
     "base_uri": "https://localhost:8080/"
    },
    "id": "cDtRGZMPNrAM",
    "outputId": "ffc1fd2b-0bac-4a28-e9dd-de135042cc38"
   },
   "outputs": [
    {
     "name": "stderr",
     "output_type": "stream",
     "text": [
      "[nltk_data] Downloading package stopwords to\n",
      "[nltk_data]     C:\\Users\\panda\\AppData\\Roaming\\nltk_data...\n",
      "[nltk_data]   Package stopwords is already up-to-date!\n",
      "[nltk_data] Downloading package wordnet to\n",
      "[nltk_data]     C:\\Users\\panda\\AppData\\Roaming\\nltk_data...\n",
      "[nltk_data]   Package wordnet is already up-to-date!\n"
     ]
    }
   ],
   "source": [
    "from os import listdir\n",
    "import numpy as np\n",
    "import pandas as pd\n",
    "import re\n",
    "import nltk\n",
    "from nltk.corpus import stopwords\n",
    "from nltk.stem import WordNetLemmatizer\n",
    "import gc\n",
    "import gensim.downloader as api\n",
    "\n",
    "import torch\n",
    "import torch.nn as nn\n",
    "\n",
    "from math import ceil\n",
    "import torch.optim as optim\n",
    "\n",
    "nltk.download('stopwords')\n",
    "nltk.download('wordnet')\n",
    "\n",
    "# Load GloVe model with Gensim's API - Twitter specific embedding\n",
    "embeddings_model = api.load(\"glove-twitter-200\")  # 200-dimensional GloVe embeddings\n",
    "\n",
    "#To check that T4 GPU is connected\n",
    "#!nvidia-smi"
   ]
  },
  {
   "cell_type": "code",
   "execution_count": 68,
   "metadata": {},
   "outputs": [],
   "source": [
    "# %pip install \"modin[all]\"\n",
    "# import modin.pandas as pd"
   ]
  },
  {
   "cell_type": "code",
   "execution_count": null,
   "metadata": {},
   "outputs": [],
   "source": []
  },
  {
   "cell_type": "code",
   "execution_count": 75,
   "metadata": {},
   "outputs": [],
   "source": [
    "import pandas as pd"
   ]
  },
  {
   "cell_type": "code",
   "execution_count": 70,
   "metadata": {},
   "outputs": [],
   "source": [
    "# %pip install swifter\n",
    "# import swifter"
   ]
  },
  {
   "cell_type": "code",
   "execution_count": 76,
   "metadata": {},
   "outputs": [],
   "source": [
    "import swifter"
   ]
  },
  {
   "cell_type": "code",
   "execution_count": 72,
   "metadata": {},
   "outputs": [],
   "source": [
    "import os\n",
    "os.environ[\"MODIN_ENGINE\"] = \"dask\"  # Options: \"ray\" or \"dask\"\n",
    "import modin.pandas as pd"
   ]
  },
  {
   "cell_type": "code",
   "execution_count": 73,
   "metadata": {},
   "outputs": [
    {
     "data": {
      "text/plain": [
       "<module 'swifter' from 'c:\\\\Users\\\\panda\\\\miniconda3\\\\envs\\\\ipx_torch\\\\lib\\\\site-packages\\\\swifter\\\\__init__.py'>"
      ]
     },
     "execution_count": 73,
     "metadata": {},
     "output_type": "execute_result"
    }
   ],
   "source": [
    "swifter"
   ]
  },
  {
   "cell_type": "markdown",
   "metadata": {
    "id": "csoDmI8_X2OO"
   },
   "source": [
    "# Data preprocessing"
   ]
  },
  {
   "cell_type": "code",
   "execution_count": 77,
   "metadata": {
    "colab": {
     "base_uri": "https://localhost:8080/",
     "height": 553
    },
    "id": "5SVFWTlQX0Jy",
    "outputId": "137b7b7f-e522-433b-9a21-04250b9125db"
   },
   "outputs": [
    {
     "name": "stdout",
     "output_type": "stream",
     "text": [
      "ArgentinaBelgium72.csv\n",
      "ArgentinaGermanyFinal77.csv\n",
      "AustraliaNetherlands29.csv\n",
      "AustraliaSpain34.csv\n",
      "BelgiumSouthKorea59.csv\n",
      "CameroonBrazil36.csv\n",
      "FranceGermany70.csv\n",
      "FranceNigeria66.csv\n",
      "GermanyAlgeria67.csv\n",
      "GermanyBrazil74.csv\n",
      "GermanyUSA57.csv\n",
      "HondurasSwitzerland54.csv\n",
      "MexicoCroatia37.csv\n",
      "NetherlandsChile35.csv\n",
      "PortugalGhana58.csv\n",
      "USASlovenia2010.csv\n"
     ]
    },
    {
     "data": {
      "text/html": [
       "<div>\n",
       "<style scoped>\n",
       "    .dataframe tbody tr th:only-of-type {\n",
       "        vertical-align: middle;\n",
       "    }\n",
       "\n",
       "    .dataframe tbody tr th {\n",
       "        vertical-align: top;\n",
       "    }\n",
       "\n",
       "    .dataframe thead th {\n",
       "        text-align: right;\n",
       "    }\n",
       "</style>\n",
       "<table border=\"1\" class=\"dataframe\">\n",
       "  <thead>\n",
       "    <tr style=\"text-align: right;\">\n",
       "      <th></th>\n",
       "      <th>ID</th>\n",
       "      <th>MatchID</th>\n",
       "      <th>PeriodID</th>\n",
       "      <th>EventType</th>\n",
       "      <th>Timestamp</th>\n",
       "      <th>Tweet</th>\n",
       "    </tr>\n",
       "  </thead>\n",
       "  <tbody>\n",
       "    <tr>\n",
       "      <th>0</th>\n",
       "      <td>0_0</td>\n",
       "      <td>0</td>\n",
       "      <td>0</td>\n",
       "      <td>0</td>\n",
       "      <td>1404575400000</td>\n",
       "      <td>RT @2014WorIdCup: Argentina vs Belgium\\n\\nWho ...</td>\n",
       "    </tr>\n",
       "    <tr>\n",
       "      <th>1</th>\n",
       "      <td>0_0</td>\n",
       "      <td>0</td>\n",
       "      <td>0</td>\n",
       "      <td>0</td>\n",
       "      <td>1404575400000</td>\n",
       "      <td>@elijahman_ time to focus on Belgium winning t...</td>\n",
       "    </tr>\n",
       "    <tr>\n",
       "      <th>2</th>\n",
       "      <td>0_0</td>\n",
       "      <td>0</td>\n",
       "      <td>0</td>\n",
       "      <td>0</td>\n",
       "      <td>1404575400000</td>\n",
       "      <td>RT @FIFAWorldCup: GLOBAL STADIUM: #Joinin with...</td>\n",
       "    </tr>\n",
       "    <tr>\n",
       "      <th>3</th>\n",
       "      <td>0_0</td>\n",
       "      <td>0</td>\n",
       "      <td>0</td>\n",
       "      <td>0</td>\n",
       "      <td>1404575400000</td>\n",
       "      <td>RT @CatholicNewsSvc: #PopeFrancis. Uh-oh. Arge...</td>\n",
       "    </tr>\n",
       "    <tr>\n",
       "      <th>4</th>\n",
       "      <td>0_0</td>\n",
       "      <td>0</td>\n",
       "      <td>0</td>\n",
       "      <td>0</td>\n",
       "      <td>1404575400000</td>\n",
       "      <td>RT @soccerdotcom: If he scores vs #BEL we'll a...</td>\n",
       "    </tr>\n",
       "    <tr>\n",
       "      <th>...</th>\n",
       "      <td>...</td>\n",
       "      <td>...</td>\n",
       "      <td>...</td>\n",
       "      <td>...</td>\n",
       "      <td>...</td>\n",
       "      <td>...</td>\n",
       "    </tr>\n",
       "    <tr>\n",
       "      <th>5056045</th>\n",
       "      <td>15_129</td>\n",
       "      <td>15</td>\n",
       "      <td>129</td>\n",
       "      <td>0</td>\n",
       "      <td>1276876799000</td>\n",
       "      <td>RT @nytimes FIFA World Cup -- Final Score: U.S...</td>\n",
       "    </tr>\n",
       "    <tr>\n",
       "      <th>5056046</th>\n",
       "      <td>15_129</td>\n",
       "      <td>15</td>\n",
       "      <td>129</td>\n",
       "      <td>0</td>\n",
       "      <td>1276876799000</td>\n",
       "      <td>Ugh!!! should've been 3-2 USA!  #worldcup</td>\n",
       "    </tr>\n",
       "    <tr>\n",
       "      <th>5056047</th>\n",
       "      <td>15_129</td>\n",
       "      <td>15</td>\n",
       "      <td>129</td>\n",
       "      <td>0</td>\n",
       "      <td>1276876799000</td>\n",
       "      <td>RT @jaclynkeough: Ha! RT @someecards I'd rathe...</td>\n",
       "    </tr>\n",
       "    <tr>\n",
       "      <th>5056048</th>\n",
       "      <td>15_129</td>\n",
       "      <td>15</td>\n",
       "      <td>129</td>\n",
       "      <td>0</td>\n",
       "      <td>1276876799000</td>\n",
       "      <td>RT @gustavaulia: So many surprises at worldcup...</td>\n",
       "    </tr>\n",
       "    <tr>\n",
       "      <th>5056049</th>\n",
       "      <td>15_129</td>\n",
       "      <td>15</td>\n",
       "      <td>129</td>\n",
       "      <td>0</td>\n",
       "      <td>1276876799000</td>\n",
       "      <td>RT @themotleyfool: Also, Team #USA got robbed....</td>\n",
       "    </tr>\n",
       "  </tbody>\n",
       "</table>\n",
       "<p>5056050 rows × 6 columns</p>\n",
       "</div>"
      ],
      "text/plain": [
       "             ID MatchID  PeriodID  EventType      Timestamp  \\\n",
       "0           0_0       0         0          0  1404575400000   \n",
       "1           0_0       0         0          0  1404575400000   \n",
       "2           0_0       0         0          0  1404575400000   \n",
       "3           0_0       0         0          0  1404575400000   \n",
       "4           0_0       0         0          0  1404575400000   \n",
       "...         ...     ...       ...        ...            ...   \n",
       "5056045  15_129      15       129          0  1276876799000   \n",
       "5056046  15_129      15       129          0  1276876799000   \n",
       "5056047  15_129      15       129          0  1276876799000   \n",
       "5056048  15_129      15       129          0  1276876799000   \n",
       "5056049  15_129      15       129          0  1276876799000   \n",
       "\n",
       "                                                     Tweet  \n",
       "0        RT @2014WorIdCup: Argentina vs Belgium\\n\\nWho ...  \n",
       "1        @elijahman_ time to focus on Belgium winning t...  \n",
       "2        RT @FIFAWorldCup: GLOBAL STADIUM: #Joinin with...  \n",
       "3        RT @CatholicNewsSvc: #PopeFrancis. Uh-oh. Arge...  \n",
       "4        RT @soccerdotcom: If he scores vs #BEL we'll a...  \n",
       "...                                                    ...  \n",
       "5056045  RT @nytimes FIFA World Cup -- Final Score: U.S...  \n",
       "5056046          Ugh!!! should've been 3-2 USA!  #worldcup  \n",
       "5056047  RT @jaclynkeough: Ha! RT @someecards I'd rathe...  \n",
       "5056048  RT @gustavaulia: So many surprises at worldcup...  \n",
       "5056049  RT @themotleyfool: Also, Team #USA got robbed....  \n",
       "\n",
       "[5056050 rows x 6 columns]"
      ]
     },
     "execution_count": 77,
     "metadata": {},
     "output_type": "execute_result"
    }
   ],
   "source": [
    "# Read all training files and concatenate them into one dataframe\n",
    "\n",
    "#import os\n",
    "#print(os.getcwd())\n",
    "\n",
    "li = []\n",
    "i = 0\n",
    "for filename in listdir(\"train_tweets\"):\n",
    "    if filename != '.ipynb_checkpoints':\n",
    "        print(filename)\n",
    "        df = pd.read_csv(\"train_tweets/\" + filename)\n",
    "        # df.drop(columns=['Timestamp'], inplace=True)\n",
    "        # drop unused column(s)\n",
    "        df['MatchID'] = str(i)\n",
    "        df['ID'] = str(i)+ '_' + df['PeriodID'].astype(str)\n",
    "        # makes sure that the match IDs are ordered from 0,1,2... with no missing values\n",
    "        i+=1\n",
    "        li.append(df)\n",
    "df = pd.concat(li, ignore_index=True)\n",
    "#print(len(df))\n",
    "df"
   ]
  },
  {
   "cell_type": "code",
   "execution_count": 78,
   "metadata": {},
   "outputs": [],
   "source": [
    "del li"
   ]
  },
  {
   "cell_type": "code",
   "execution_count": 79,
   "metadata": {},
   "outputs": [
    {
     "data": {
      "text/plain": [
       "1709"
      ]
     },
     "execution_count": 79,
     "metadata": {},
     "output_type": "execute_result"
    }
   ],
   "source": [
    "gc.collect()"
   ]
  },
  {
   "cell_type": "code",
   "execution_count": 80,
   "metadata": {
    "editable": true,
    "id": "zTYShYPVXs2w",
    "slideshow": {
     "slide_type": ""
    },
    "tags": []
   },
   "outputs": [],
   "source": [
    "# Preprocessing of tweet\n",
    "lemmatizer = WordNetLemmatizer()\n",
    "stop_words = set(stopwords.words('english'))\n",
    "def preprocess_text(text):\n",
    "    # Lowercasing\n",
    "    text = text.lower()\n",
    "    # Remove punctuation\n",
    "    text = re.sub(r'[^\\w\\s]', '', text)\n",
    "    # Remove numbers\n",
    "    text = re.sub(r'\\d+', '', text)\n",
    "    # Tokenization\n",
    "    words = text.split()\n",
    "    # Remove stopwords\n",
    "    words = [word for word in words if word not in stop_words]\n",
    "    # Lemmatization\n",
    "    words = [lemmatizer.lemmatize(word) for word in words]\n",
    "    return ' '.join(words)"
   ]
  },
  {
   "cell_type": "code",
   "execution_count": 81,
   "metadata": {
    "colab": {
     "base_uri": "https://localhost:8080/",
     "height": 206
    },
    "id": "pCBsffiAbRM0",
    "outputId": "38b4c93f-5af9-444c-c2fa-19a31b586353"
   },
   "outputs": [
    {
     "data": {
      "application/vnd.jupyter.widget-view+json": {
       "model_id": "e073c37b269c4a65ae155c18299c7f3e",
       "version_major": 2,
       "version_minor": 0
      },
      "text/plain": [
       "Pandas Apply:   0%|          | 0/5056050 [00:00<?, ?it/s]"
      ]
     },
     "metadata": {},
     "output_type": "display_data"
    },
    {
     "data": {
      "text/html": [
       "<div>\n",
       "<style scoped>\n",
       "    .dataframe tbody tr th:only-of-type {\n",
       "        vertical-align: middle;\n",
       "    }\n",
       "\n",
       "    .dataframe tbody tr th {\n",
       "        vertical-align: top;\n",
       "    }\n",
       "\n",
       "    .dataframe thead th {\n",
       "        text-align: right;\n",
       "    }\n",
       "</style>\n",
       "<table border=\"1\" class=\"dataframe\">\n",
       "  <thead>\n",
       "    <tr style=\"text-align: right;\">\n",
       "      <th></th>\n",
       "      <th>ID</th>\n",
       "      <th>MatchID</th>\n",
       "      <th>PeriodID</th>\n",
       "      <th>EventType</th>\n",
       "      <th>Timestamp</th>\n",
       "      <th>Tweet</th>\n",
       "    </tr>\n",
       "  </thead>\n",
       "  <tbody>\n",
       "    <tr>\n",
       "      <th>0</th>\n",
       "      <td>0_0</td>\n",
       "      <td>0</td>\n",
       "      <td>0</td>\n",
       "      <td>0</td>\n",
       "      <td>1404575400000</td>\n",
       "      <td>rt woridcup argentina v belgium win httptcoleu...</td>\n",
       "    </tr>\n",
       "    <tr>\n",
       "      <th>1</th>\n",
       "      <td>0_0</td>\n",
       "      <td>0</td>\n",
       "      <td>0</td>\n",
       "      <td>0</td>\n",
       "      <td>1404575400000</td>\n",
       "      <td>elijahman_ time focus belgium winning world cup</td>\n",
       "    </tr>\n",
       "    <tr>\n",
       "      <th>2</th>\n",
       "      <td>0_0</td>\n",
       "      <td>0</td>\n",
       "      <td>0</td>\n",
       "      <td>0</td>\n",
       "      <td>1404575400000</td>\n",
       "      <td>rt fifaworldcup global stadium joinin worldcup...</td>\n",
       "    </tr>\n",
       "    <tr>\n",
       "      <th>3</th>\n",
       "      <td>0_0</td>\n",
       "      <td>0</td>\n",
       "      <td>0</td>\n",
       "      <td>0</td>\n",
       "      <td>1404575400000</td>\n",
       "      <td>rt catholicnewssvc popefrancis uhoh argentina ...</td>\n",
       "    </tr>\n",
       "    <tr>\n",
       "      <th>4</th>\n",
       "      <td>0_0</td>\n",
       "      <td>0</td>\n",
       "      <td>0</td>\n",
       "      <td>0</td>\n",
       "      <td>1404575400000</td>\n",
       "      <td>rt soccerdotcom score v bel well award messisi...</td>\n",
       "    </tr>\n",
       "    <tr>\n",
       "      <th>...</th>\n",
       "      <td>...</td>\n",
       "      <td>...</td>\n",
       "      <td>...</td>\n",
       "      <td>...</td>\n",
       "      <td>...</td>\n",
       "      <td>...</td>\n",
       "    </tr>\n",
       "    <tr>\n",
       "      <th>5056045</th>\n",
       "      <td>15_129</td>\n",
       "      <td>15</td>\n",
       "      <td>129</td>\n",
       "      <td>0</td>\n",
       "      <td>1276876799000</td>\n",
       "      <td>rt nytimes fifa world cup final score u sloven...</td>\n",
       "    </tr>\n",
       "    <tr>\n",
       "      <th>5056046</th>\n",
       "      <td>15_129</td>\n",
       "      <td>15</td>\n",
       "      <td>129</td>\n",
       "      <td>0</td>\n",
       "      <td>1276876799000</td>\n",
       "      <td>ugh shouldve usa worldcup</td>\n",
       "    </tr>\n",
       "    <tr>\n",
       "      <th>5056047</th>\n",
       "      <td>15_129</td>\n",
       "      <td>15</td>\n",
       "      <td>129</td>\n",
       "      <td>0</td>\n",
       "      <td>1276876799000</td>\n",
       "      <td>rt jaclynkeough ha rt someecards id rather die...</td>\n",
       "    </tr>\n",
       "    <tr>\n",
       "      <th>5056048</th>\n",
       "      <td>15_129</td>\n",
       "      <td>15</td>\n",
       "      <td>129</td>\n",
       "      <td>0</td>\n",
       "      <td>1276876799000</td>\n",
       "      <td>rt gustavaulia many surprise worldcup timewoww...</td>\n",
       "    </tr>\n",
       "    <tr>\n",
       "      <th>5056049</th>\n",
       "      <td>15_129</td>\n",
       "      <td>15</td>\n",
       "      <td>129</td>\n",
       "      <td>0</td>\n",
       "      <td>1276876799000</td>\n",
       "      <td>rt themotleyfool also team usa got robbed hey ...</td>\n",
       "    </tr>\n",
       "  </tbody>\n",
       "</table>\n",
       "<p>5056050 rows × 6 columns</p>\n",
       "</div>"
      ],
      "text/plain": [
       "             ID MatchID  PeriodID  EventType      Timestamp  \\\n",
       "0           0_0       0         0          0  1404575400000   \n",
       "1           0_0       0         0          0  1404575400000   \n",
       "2           0_0       0         0          0  1404575400000   \n",
       "3           0_0       0         0          0  1404575400000   \n",
       "4           0_0       0         0          0  1404575400000   \n",
       "...         ...     ...       ...        ...            ...   \n",
       "5056045  15_129      15       129          0  1276876799000   \n",
       "5056046  15_129      15       129          0  1276876799000   \n",
       "5056047  15_129      15       129          0  1276876799000   \n",
       "5056048  15_129      15       129          0  1276876799000   \n",
       "5056049  15_129      15       129          0  1276876799000   \n",
       "\n",
       "                                                     Tweet  \n",
       "0        rt woridcup argentina v belgium win httptcoleu...  \n",
       "1          elijahman_ time focus belgium winning world cup  \n",
       "2        rt fifaworldcup global stadium joinin worldcup...  \n",
       "3        rt catholicnewssvc popefrancis uhoh argentina ...  \n",
       "4        rt soccerdotcom score v bel well award messisi...  \n",
       "...                                                    ...  \n",
       "5056045  rt nytimes fifa world cup final score u sloven...  \n",
       "5056046                          ugh shouldve usa worldcup  \n",
       "5056047  rt jaclynkeough ha rt someecards id rather die...  \n",
       "5056048  rt gustavaulia many surprise worldcup timewoww...  \n",
       "5056049  rt themotleyfool also team usa got robbed hey ...  \n",
       "\n",
       "[5056050 rows x 6 columns]"
      ]
     },
     "execution_count": 81,
     "metadata": {},
     "output_type": "execute_result"
    }
   ],
   "source": [
    "# Apply preprocessing to each tweet\n",
    "df['Tweet'] = df['Tweet'].swifter.apply(preprocess_text)\n",
    "df"
   ]
  },
  {
   "cell_type": "markdown",
   "metadata": {
    "id": "YW4PGmMxrF4r"
   },
   "source": [
    "# Tweet Embeddings"
   ]
  },
  {
   "cell_type": "code",
   "execution_count": 83,
   "metadata": {
    "id": "fP-s9Uqmot9q"
   },
   "outputs": [],
   "source": [
    "# Get vector tweet embeddings\n",
    "# TODOOOOOOOOOOOOOOOO maybe instead of avg word embedding for each tweet can get sentence\n",
    "#   embeddings to retain more information\n",
    "#   -> can try more complex functions here\n",
    "#   -> avg embedding of each word for a tweet is fine for now, maybe works well enough\n",
    "\n",
    "# Function to compute the average word vector for a tweet\n",
    "def get_avg_embedding(tweet, model, vector_size=200):\n",
    "    words = tweet.split()  # Tokenize by whitespace\n",
    "    word_vectors = [model[word] for word in words if word in model]\n",
    "    if not word_vectors:  # If no words in the tweet are in the vocabulary, return a zero vector\n",
    "        return np.zeros(vector_size)\n",
    "    return np.sum(word_vectors, axis=0)"
   ]
  },
  {
   "cell_type": "code",
   "execution_count": 84,
   "metadata": {
    "id": "OEBgxG9xvc9p"
   },
   "outputs": [],
   "source": [
    "# Crashes after using all available RAM :( on google colab\n",
    "# \n",
    "\n",
    "# obtain vector tweet embeddings\n",
    "vector_size = 200  # Adjust based on the chosen GloVe model\n",
    "# tweet_vectors = np.vstack([get_avg_embedding(tweet, embeddings_model, vector_size) for tweet in df['Tweet']])\n",
    "# tweet_df = pd.DataFrame(tweet_vectors)\n",
    "# tweet_df.head()"
   ]
  },
  {
   "cell_type": "code",
   "execution_count": 85,
   "metadata": {},
   "outputs": [
    {
     "data": {
      "application/vnd.jupyter.widget-view+json": {
       "model_id": "c088e8e042754a0bac79df9ec13b13a6",
       "version_major": 2,
       "version_minor": 0
      },
      "text/plain": [
       "Pandas Apply:   0%|          | 0/5056050 [00:00<?, ?it/s]"
      ]
     },
     "metadata": {},
     "output_type": "display_data"
    }
   ],
   "source": [
    "from functools import partial\n",
    "\n",
    "f = partial(get_avg_embedding, model=embeddings_model,vector_size=vector_size)\n",
    "f.__name__ = \"paritla\"\n",
    "f.__module__ = get_avg_embedding.__module__\n",
    "\n",
    "df[\"tweet_vector\"] = df[\"Tweet\"].swifter.apply(f)"
   ]
  },
  {
   "cell_type": "code",
   "execution_count": 86,
   "metadata": {
    "id": "4b4cFEFb-qo4"
   },
   "outputs": [],
   "source": [
    "# Attach the vectors into the original dataframe\n",
    "# df = pd.concat([df, tweet_df], axis=1)\n",
    "\n",
    "# Drop the columns that are not useful anymore\n",
    "# no need for Tweet column since we have its corresponding vector embedding\n",
    "df.drop(columns=['Tweet'], inplace=True)\n",
    "\n"
   ]
  },
  {
   "cell_type": "code",
   "execution_count": 87,
   "metadata": {},
   "outputs": [
    {
     "data": {
      "text/html": [
       "<div>\n",
       "<style scoped>\n",
       "    .dataframe tbody tr th:only-of-type {\n",
       "        vertical-align: middle;\n",
       "    }\n",
       "\n",
       "    .dataframe tbody tr th {\n",
       "        vertical-align: top;\n",
       "    }\n",
       "\n",
       "    .dataframe thead th {\n",
       "        text-align: right;\n",
       "    }\n",
       "</style>\n",
       "<table border=\"1\" class=\"dataframe\">\n",
       "  <thead>\n",
       "    <tr style=\"text-align: right;\">\n",
       "      <th></th>\n",
       "      <th>ID</th>\n",
       "      <th>MatchID</th>\n",
       "      <th>PeriodID</th>\n",
       "      <th>EventType</th>\n",
       "      <th>Timestamp</th>\n",
       "      <th>tweet_vector</th>\n",
       "    </tr>\n",
       "  </thead>\n",
       "  <tbody>\n",
       "    <tr>\n",
       "      <th>0</th>\n",
       "      <td>0_0</td>\n",
       "      <td>0</td>\n",
       "      <td>0</td>\n",
       "      <td>0</td>\n",
       "      <td>1404575400000</td>\n",
       "      <td>[1.8516128, 2.6584997, -0.28650498, 0.00972297...</td>\n",
       "    </tr>\n",
       "    <tr>\n",
       "      <th>1</th>\n",
       "      <td>0_0</td>\n",
       "      <td>0</td>\n",
       "      <td>0</td>\n",
       "      <td>0</td>\n",
       "      <td>1404575400000</td>\n",
       "      <td>[0.68378395, 1.078068, 0.556275, -1.0781101, -...</td>\n",
       "    </tr>\n",
       "    <tr>\n",
       "      <th>2</th>\n",
       "      <td>0_0</td>\n",
       "      <td>0</td>\n",
       "      <td>0</td>\n",
       "      <td>0</td>\n",
       "      <td>1404575400000</td>\n",
       "      <td>[-0.43702668, 2.7180884, 0.44844595, -2.479747...</td>\n",
       "    </tr>\n",
       "    <tr>\n",
       "      <th>3</th>\n",
       "      <td>0_0</td>\n",
       "      <td>0</td>\n",
       "      <td>0</td>\n",
       "      <td>0</td>\n",
       "      <td>1404575400000</td>\n",
       "      <td>[1.81652, 2.24445, -0.59934795, -0.66496515, -...</td>\n",
       "    </tr>\n",
       "    <tr>\n",
       "      <th>4</th>\n",
       "      <td>0_0</td>\n",
       "      <td>0</td>\n",
       "      <td>0</td>\n",
       "      <td>0</td>\n",
       "      <td>1404575400000</td>\n",
       "      <td>[2.5087266, 6.0086, -0.40718204, -0.7157027, 0...</td>\n",
       "    </tr>\n",
       "  </tbody>\n",
       "</table>\n",
       "</div>"
      ],
      "text/plain": [
       "    ID MatchID  PeriodID  EventType      Timestamp  \\\n",
       "0  0_0       0         0          0  1404575400000   \n",
       "1  0_0       0         0          0  1404575400000   \n",
       "2  0_0       0         0          0  1404575400000   \n",
       "3  0_0       0         0          0  1404575400000   \n",
       "4  0_0       0         0          0  1404575400000   \n",
       "\n",
       "                                        tweet_vector  \n",
       "0  [1.8516128, 2.6584997, -0.28650498, 0.00972297...  \n",
       "1  [0.68378395, 1.078068, 0.556275, -1.0781101, -...  \n",
       "2  [-0.43702668, 2.7180884, 0.44844595, -2.479747...  \n",
       "3  [1.81652, 2.24445, -0.59934795, -0.66496515, -...  \n",
       "4  [2.5087266, 6.0086, -0.40718204, -0.7157027, 0...  "
      ]
     },
     "execution_count": 87,
     "metadata": {},
     "output_type": "execute_result"
    }
   ],
   "source": [
    "df.head()"
   ]
  },
  {
   "cell_type": "code",
   "execution_count": 88,
   "metadata": {},
   "outputs": [
    {
     "data": {
      "text/html": [
       "<div>\n",
       "<style scoped>\n",
       "    .dataframe tbody tr th:only-of-type {\n",
       "        vertical-align: middle;\n",
       "    }\n",
       "\n",
       "    .dataframe tbody tr th {\n",
       "        vertical-align: top;\n",
       "    }\n",
       "\n",
       "    .dataframe thead th {\n",
       "        text-align: right;\n",
       "    }\n",
       "</style>\n",
       "<table border=\"1\" class=\"dataframe\">\n",
       "  <thead>\n",
       "    <tr style=\"text-align: right;\">\n",
       "      <th></th>\n",
       "      <th>ID</th>\n",
       "      <th>MatchID</th>\n",
       "      <th>PeriodID</th>\n",
       "      <th>EventType</th>\n",
       "      <th>Timestamp</th>\n",
       "      <th>tweet_vector</th>\n",
       "    </tr>\n",
       "  </thead>\n",
       "  <tbody>\n",
       "    <tr>\n",
       "      <th>0</th>\n",
       "      <td>0_0</td>\n",
       "      <td>0</td>\n",
       "      <td>0</td>\n",
       "      <td>0</td>\n",
       "      <td>1404575400000</td>\n",
       "      <td>[1.8516128, 2.6584997, -0.28650498, 0.00972297...</td>\n",
       "    </tr>\n",
       "    <tr>\n",
       "      <th>1</th>\n",
       "      <td>0_0</td>\n",
       "      <td>0</td>\n",
       "      <td>0</td>\n",
       "      <td>0</td>\n",
       "      <td>1404575400000</td>\n",
       "      <td>[0.68378395, 1.078068, 0.556275, -1.0781101, -...</td>\n",
       "    </tr>\n",
       "    <tr>\n",
       "      <th>2</th>\n",
       "      <td>0_0</td>\n",
       "      <td>0</td>\n",
       "      <td>0</td>\n",
       "      <td>0</td>\n",
       "      <td>1404575400000</td>\n",
       "      <td>[-0.43702668, 2.7180884, 0.44844595, -2.479747...</td>\n",
       "    </tr>\n",
       "    <tr>\n",
       "      <th>3</th>\n",
       "      <td>0_0</td>\n",
       "      <td>0</td>\n",
       "      <td>0</td>\n",
       "      <td>0</td>\n",
       "      <td>1404575400000</td>\n",
       "      <td>[1.81652, 2.24445, -0.59934795, -0.66496515, -...</td>\n",
       "    </tr>\n",
       "    <tr>\n",
       "      <th>4</th>\n",
       "      <td>0_0</td>\n",
       "      <td>0</td>\n",
       "      <td>0</td>\n",
       "      <td>0</td>\n",
       "      <td>1404575400000</td>\n",
       "      <td>[2.5087266, 6.0086, -0.40718204, -0.7157027, 0...</td>\n",
       "    </tr>\n",
       "    <tr>\n",
       "      <th>...</th>\n",
       "      <td>...</td>\n",
       "      <td>...</td>\n",
       "      <td>...</td>\n",
       "      <td>...</td>\n",
       "      <td>...</td>\n",
       "      <td>...</td>\n",
       "    </tr>\n",
       "    <tr>\n",
       "      <th>5056045</th>\n",
       "      <td>15_129</td>\n",
       "      <td>15</td>\n",
       "      <td>129</td>\n",
       "      <td>0</td>\n",
       "      <td>1276876799000</td>\n",
       "      <td>[2.8213418, 4.1725197, 3.30757, -3.5441713, 1....</td>\n",
       "    </tr>\n",
       "    <tr>\n",
       "      <th>5056046</th>\n",
       "      <td>15_129</td>\n",
       "      <td>15</td>\n",
       "      <td>129</td>\n",
       "      <td>0</td>\n",
       "      <td>1276876799000</td>\n",
       "      <td>[1.0414053, 0.5316, 0.98389703, 0.025289953, -...</td>\n",
       "    </tr>\n",
       "    <tr>\n",
       "      <th>5056047</th>\n",
       "      <td>15_129</td>\n",
       "      <td>15</td>\n",
       "      <td>129</td>\n",
       "      <td>0</td>\n",
       "      <td>1276876799000</td>\n",
       "      <td>[0.3141033, 4.4534097, 0.09538996, -0.5942371,...</td>\n",
       "    </tr>\n",
       "    <tr>\n",
       "      <th>5056048</th>\n",
       "      <td>15_129</td>\n",
       "      <td>15</td>\n",
       "      <td>129</td>\n",
       "      <td>0</td>\n",
       "      <td>1276876799000</td>\n",
       "      <td>[0.8237283, 2.6634202, 1.17653, -0.04314803, 0...</td>\n",
       "    </tr>\n",
       "    <tr>\n",
       "      <th>5056049</th>\n",
       "      <td>15_129</td>\n",
       "      <td>15</td>\n",
       "      <td>129</td>\n",
       "      <td>0</td>\n",
       "      <td>1276876799000</td>\n",
       "      <td>[3.1642876, 4.1183667, -0.663573, -1.8473239, ...</td>\n",
       "    </tr>\n",
       "  </tbody>\n",
       "</table>\n",
       "<p>5056050 rows × 6 columns</p>\n",
       "</div>"
      ],
      "text/plain": [
       "             ID MatchID  PeriodID  EventType      Timestamp  \\\n",
       "0           0_0       0         0          0  1404575400000   \n",
       "1           0_0       0         0          0  1404575400000   \n",
       "2           0_0       0         0          0  1404575400000   \n",
       "3           0_0       0         0          0  1404575400000   \n",
       "4           0_0       0         0          0  1404575400000   \n",
       "...         ...     ...       ...        ...            ...   \n",
       "5056045  15_129      15       129          0  1276876799000   \n",
       "5056046  15_129      15       129          0  1276876799000   \n",
       "5056047  15_129      15       129          0  1276876799000   \n",
       "5056048  15_129      15       129          0  1276876799000   \n",
       "5056049  15_129      15       129          0  1276876799000   \n",
       "\n",
       "                                              tweet_vector  \n",
       "0        [1.8516128, 2.6584997, -0.28650498, 0.00972297...  \n",
       "1        [0.68378395, 1.078068, 0.556275, -1.0781101, -...  \n",
       "2        [-0.43702668, 2.7180884, 0.44844595, -2.479747...  \n",
       "3        [1.81652, 2.24445, -0.59934795, -0.66496515, -...  \n",
       "4        [2.5087266, 6.0086, -0.40718204, -0.7157027, 0...  \n",
       "...                                                    ...  \n",
       "5056045  [2.8213418, 4.1725197, 3.30757, -3.5441713, 1....  \n",
       "5056046  [1.0414053, 0.5316, 0.98389703, 0.025289953, -...  \n",
       "5056047  [0.3141033, 4.4534097, 0.09538996, -0.5942371,...  \n",
       "5056048  [0.8237283, 2.6634202, 1.17653, -0.04314803, 0...  \n",
       "5056049  [3.1642876, 4.1183667, -0.663573, -1.8473239, ...  \n",
       "\n",
       "[5056050 rows x 6 columns]"
      ]
     },
     "execution_count": 88,
     "metadata": {},
     "output_type": "execute_result"
    }
   ],
   "source": [
    "# by now should have df with columns: ID, match id, period id, Event Type, tweet_vector. Tweet_vector is just 200 columns\n",
    "df"
   ]
  },
  {
   "cell_type": "code",
   "execution_count": 93,
   "metadata": {},
   "outputs": [
    {
     "name": "stderr",
     "output_type": "stream",
     "text": [
      "DeprecationWarning: DataFrameGroupBy.apply operated on the grouping columns. This behavior is deprecated, and in a future version of pandas the grouping columns will be excluded from the operation. Either pass `include_groups=False` to exclude the groupings or explicitly select the grouping columns after groupby to silence this warning.\n"
     ]
    }
   ],
   "source": [
    "# Sort by MatchID, PeriodID, and Timestamp to maintain order\n",
    "df = df.sort_values(by=['MatchID', 'PeriodID', 'Timestamp']).reset_index(drop=True)\n",
    "\n",
    "# Helper function to assign chunks\n",
    "def assign_chunks(group, n_chunks=50):\n",
    "    chunk_size = len(group) / n_chunks\n",
    "    return (np.floor(np.arange(len(group)) / chunk_size)).astype(int)\n",
    "\n",
    "# Apply chunk assignment within each MatchID and PeriodID\n",
    "df['chunk'] = df.groupby(['MatchID', 'PeriodID']).apply(\n",
    "    lambda group: assign_chunks(group)\n",
    ").explode().reset_index(drop=True)"
   ]
  },
  {
   "cell_type": "code",
   "execution_count": 99,
   "metadata": {},
   "outputs": [],
   "source": [
    "# group the tweets into their corresponding periods to generate an average embedding vector for each period\n",
    "# so there are no duplicate period id rows per match\n",
    "# decreases size of data + makes it easier to fit into LSTM model\n",
    "df = df.groupby(['MatchID', 'PeriodID', 'ID','chunk']).sum().reset_index()\n",
    "df.drop(columns=['ID'], inplace=True) \n",
    "df['MatchID'] = df['MatchID'].astype(int)\n",
    "df['PeriodID'] = df['PeriodID'].astype(int)\n",
    "# need to convert to int before sorting\n",
    "df.sort_values(by=['MatchID', 'PeriodID', 'chunk'], inplace=True)\n",
    "df.reset_index(drop=True, inplace=True)\n"
   ]
  },
  {
   "cell_type": "code",
   "execution_count": 100,
   "metadata": {},
   "outputs": [
    {
     "data": {
      "text/html": [
       "<div>\n",
       "<style scoped>\n",
       "    .dataframe tbody tr th:only-of-type {\n",
       "        vertical-align: middle;\n",
       "    }\n",
       "\n",
       "    .dataframe tbody tr th {\n",
       "        vertical-align: top;\n",
       "    }\n",
       "\n",
       "    .dataframe thead th {\n",
       "        text-align: right;\n",
       "    }\n",
       "</style>\n",
       "<table border=\"1\" class=\"dataframe\">\n",
       "  <thead>\n",
       "    <tr style=\"text-align: right;\">\n",
       "      <th></th>\n",
       "      <th>MatchID</th>\n",
       "      <th>PeriodID</th>\n",
       "      <th>chunk</th>\n",
       "      <th>EventType</th>\n",
       "      <th>Timestamp</th>\n",
       "      <th>tweet_vector</th>\n",
       "    </tr>\n",
       "  </thead>\n",
       "  <tbody>\n",
       "    <tr>\n",
       "      <th>0</th>\n",
       "      <td>0</td>\n",
       "      <td>0</td>\n",
       "      <td>0</td>\n",
       "      <td>0</td>\n",
       "      <td>66015043813000</td>\n",
       "      <td>[68.4425, 128.26672, 1.1481682, -29.883526, -4...</td>\n",
       "    </tr>\n",
       "    <tr>\n",
       "      <th>1</th>\n",
       "      <td>0</td>\n",
       "      <td>0</td>\n",
       "      <td>1</td>\n",
       "      <td>0</td>\n",
       "      <td>66015043879000</td>\n",
       "      <td>[68.88814, 145.43016, 10.056828, -33.073154, 5...</td>\n",
       "    </tr>\n",
       "    <tr>\n",
       "      <th>2</th>\n",
       "      <td>0</td>\n",
       "      <td>0</td>\n",
       "      <td>2</td>\n",
       "      <td>0</td>\n",
       "      <td>64610468540000</td>\n",
       "      <td>[71.49027, 131.55573, -3.6766365, -30.79529, -...</td>\n",
       "    </tr>\n",
       "    <tr>\n",
       "      <th>3</th>\n",
       "      <td>0</td>\n",
       "      <td>0</td>\n",
       "      <td>3</td>\n",
       "      <td>0</td>\n",
       "      <td>66015043995000</td>\n",
       "      <td>[55.109142, 128.37497, 7.5088744, -56.047688, ...</td>\n",
       "    </tr>\n",
       "    <tr>\n",
       "      <th>4</th>\n",
       "      <td>0</td>\n",
       "      <td>0</td>\n",
       "      <td>4</td>\n",
       "      <td>0</td>\n",
       "      <td>64610468643000</td>\n",
       "      <td>[73.1956, 143.64096, 20.510548, -56.184666, 7....</td>\n",
       "    </tr>\n",
       "    <tr>\n",
       "      <th>...</th>\n",
       "      <td>...</td>\n",
       "      <td>...</td>\n",
       "      <td>...</td>\n",
       "      <td>...</td>\n",
       "      <td>...</td>\n",
       "      <td>...</td>\n",
       "    </tr>\n",
       "    <tr>\n",
       "      <th>106845</th>\n",
       "      <td>15</td>\n",
       "      <td>129</td>\n",
       "      <td>45</td>\n",
       "      <td>0</td>\n",
       "      <td>22983782302000</td>\n",
       "      <td>[30.867702, 38.815422, 20.101866, -27.133873, ...</td>\n",
       "    </tr>\n",
       "    <tr>\n",
       "      <th>106846</th>\n",
       "      <td>15</td>\n",
       "      <td>129</td>\n",
       "      <td>46</td>\n",
       "      <td>0</td>\n",
       "      <td>21706905525000</td>\n",
       "      <td>[25.60558, 34.522087, 18.445267, -26.69125, -4...</td>\n",
       "    </tr>\n",
       "    <tr>\n",
       "      <th>106847</th>\n",
       "      <td>15</td>\n",
       "      <td>129</td>\n",
       "      <td>47</td>\n",
       "      <td>0</td>\n",
       "      <td>22983782344000</td>\n",
       "      <td>[27.194887, 41.0021, 22.521793, -24.38177, 1.9...</td>\n",
       "    </tr>\n",
       "    <tr>\n",
       "      <th>106848</th>\n",
       "      <td>15</td>\n",
       "      <td>129</td>\n",
       "      <td>48</td>\n",
       "      <td>0</td>\n",
       "      <td>21706905570000</td>\n",
       "      <td>[11.065972, 33.074814, 15.769472, -14.383462, ...</td>\n",
       "    </tr>\n",
       "    <tr>\n",
       "      <th>106849</th>\n",
       "      <td>15</td>\n",
       "      <td>129</td>\n",
       "      <td>49</td>\n",
       "      <td>0</td>\n",
       "      <td>21706905583000</td>\n",
       "      <td>[23.773817, 40.828438, 11.961466, -20.170937, ...</td>\n",
       "    </tr>\n",
       "  </tbody>\n",
       "</table>\n",
       "<p>106850 rows × 6 columns</p>\n",
       "</div>"
      ],
      "text/plain": [
       "        MatchID  PeriodID  chunk  EventType       Timestamp  \\\n",
       "0             0         0      0          0  66015043813000   \n",
       "1             0         0      1          0  66015043879000   \n",
       "2             0         0      2          0  64610468540000   \n",
       "3             0         0      3          0  66015043995000   \n",
       "4             0         0      4          0  64610468643000   \n",
       "...         ...       ...    ...        ...             ...   \n",
       "106845       15       129     45          0  22983782302000   \n",
       "106846       15       129     46          0  21706905525000   \n",
       "106847       15       129     47          0  22983782344000   \n",
       "106848       15       129     48          0  21706905570000   \n",
       "106849       15       129     49          0  21706905583000   \n",
       "\n",
       "                                             tweet_vector  \n",
       "0       [68.4425, 128.26672, 1.1481682, -29.883526, -4...  \n",
       "1       [68.88814, 145.43016, 10.056828, -33.073154, 5...  \n",
       "2       [71.49027, 131.55573, -3.6766365, -30.79529, -...  \n",
       "3       [55.109142, 128.37497, 7.5088744, -56.047688, ...  \n",
       "4       [73.1956, 143.64096, 20.510548, -56.184666, 7....  \n",
       "...                                                   ...  \n",
       "106845  [30.867702, 38.815422, 20.101866, -27.133873, ...  \n",
       "106846  [25.60558, 34.522087, 18.445267, -26.69125, -4...  \n",
       "106847  [27.194887, 41.0021, 22.521793, -24.38177, 1.9...  \n",
       "106848  [11.065972, 33.074814, 15.769472, -14.383462, ...  \n",
       "106849  [23.773817, 40.828438, 11.961466, -20.170937, ...  \n",
       "\n",
       "[106850 rows x 6 columns]"
      ]
     },
     "execution_count": 100,
     "metadata": {},
     "output_type": "execute_result"
    }
   ],
   "source": [
    "df.loc[df[\"EventType\"] != 0, \"EventType\"] = 1\n",
    "df"
   ]
  },
  {
   "cell_type": "code",
   "execution_count": 101,
   "metadata": {},
   "outputs": [
    {
     "data": {
      "application/vnd.jupyter.widget-view+json": {
       "model_id": "55fd93a7b31c497494e4c79416cf25d1",
       "version_major": 2,
       "version_minor": 0
      },
      "text/plain": [
       "Pandas Apply:   0%|          | 0/106850 [00:00<?, ?it/s]"
      ]
     },
     "metadata": {},
     "output_type": "display_data"
    }
   ],
   "source": [
    "df['tweet_vector'] = df['tweet_vector'].swifter.apply(lambda v: v / np.linalg.norm(v))"
   ]
  },
  {
   "cell_type": "code",
   "execution_count": 108,
   "metadata": {},
   "outputs": [],
   "source": [
    "df_agg = (\n",
    "    df.groupby(['MatchID', 'PeriodID'])\n",
    "    .agg(\n",
    "        period_matrix=('tweet_vector', lambda x: np.stack(x.to_numpy())),  # Stack the mean vectors\n",
    "        mean_event_type=('EventType', 'mean')  # Compute the mean event type\n",
    "    )\n",
    "    .reset_index()\n",
    ")"
   ]
  },
  {
   "cell_type": "code",
   "execution_count": null,
   "metadata": {},
   "outputs": [],
   "source": [
    "df = df_agg"
   ]
  },
  {
   "cell_type": "code",
   "execution_count": 121,
   "metadata": {},
   "outputs": [],
   "source": [
    "df.rename(columns={'period_matrix': 'tweet_vector', 'mean_event_type':'EventType'}, inplace=True)"
   ]
  },
  {
   "cell_type": "code",
   "execution_count": 122,
   "metadata": {},
   "outputs": [
    {
     "data": {
      "text/html": [
       "<div>\n",
       "<style scoped>\n",
       "    .dataframe tbody tr th:only-of-type {\n",
       "        vertical-align: middle;\n",
       "    }\n",
       "\n",
       "    .dataframe tbody tr th {\n",
       "        vertical-align: top;\n",
       "    }\n",
       "\n",
       "    .dataframe thead th {\n",
       "        text-align: right;\n",
       "    }\n",
       "</style>\n",
       "<table border=\"1\" class=\"dataframe\">\n",
       "  <thead>\n",
       "    <tr style=\"text-align: right;\">\n",
       "      <th></th>\n",
       "      <th>MatchID</th>\n",
       "      <th>PeriodID</th>\n",
       "      <th>tweet_vector</th>\n",
       "      <th>EventType</th>\n",
       "    </tr>\n",
       "  </thead>\n",
       "  <tbody>\n",
       "    <tr>\n",
       "      <th>0</th>\n",
       "      <td>0</td>\n",
       "      <td>0</td>\n",
       "      <td>[[0.03765871748328209, 0.07057545334100723, 0....</td>\n",
       "      <td>0.0</td>\n",
       "    </tr>\n",
       "    <tr>\n",
       "      <th>1</th>\n",
       "      <td>0</td>\n",
       "      <td>1</td>\n",
       "      <td>[[0.025599336251616478, 0.0652989074587822, 0....</td>\n",
       "      <td>0.0</td>\n",
       "    </tr>\n",
       "    <tr>\n",
       "      <th>2</th>\n",
       "      <td>0</td>\n",
       "      <td>2</td>\n",
       "      <td>[[0.029670257, 0.07340531, 0.006418672, -0.033...</td>\n",
       "      <td>0.0</td>\n",
       "    </tr>\n",
       "    <tr>\n",
       "      <th>3</th>\n",
       "      <td>0</td>\n",
       "      <td>3</td>\n",
       "      <td>[[0.030907733365893364, 0.06012047082185745, 0...</td>\n",
       "      <td>0.0</td>\n",
       "    </tr>\n",
       "    <tr>\n",
       "      <th>4</th>\n",
       "      <td>0</td>\n",
       "      <td>4</td>\n",
       "      <td>[[0.02883375, 0.07121538, 0.018995555, -0.0262...</td>\n",
       "      <td>0.0</td>\n",
       "    </tr>\n",
       "    <tr>\n",
       "      <th>...</th>\n",
       "      <td>...</td>\n",
       "      <td>...</td>\n",
       "      <td>...</td>\n",
       "      <td>...</td>\n",
       "    </tr>\n",
       "    <tr>\n",
       "      <th>2132</th>\n",
       "      <td>15</td>\n",
       "      <td>125</td>\n",
       "      <td>[[0.034469195, 0.06374718, 0.044963595, -0.047...</td>\n",
       "      <td>1.0</td>\n",
       "    </tr>\n",
       "    <tr>\n",
       "      <th>2133</th>\n",
       "      <td>15</td>\n",
       "      <td>126</td>\n",
       "      <td>[[0.044445183, 0.07559718, 0.03417508, -0.0509...</td>\n",
       "      <td>1.0</td>\n",
       "    </tr>\n",
       "    <tr>\n",
       "      <th>2134</th>\n",
       "      <td>15</td>\n",
       "      <td>127</td>\n",
       "      <td>[[0.04381542, 0.07115657, 0.0370309, -0.053856...</td>\n",
       "      <td>1.0</td>\n",
       "    </tr>\n",
       "    <tr>\n",
       "      <th>2135</th>\n",
       "      <td>15</td>\n",
       "      <td>128</td>\n",
       "      <td>[[0.0412188358604908, 0.07847695052623749, 0.0...</td>\n",
       "      <td>1.0</td>\n",
       "    </tr>\n",
       "    <tr>\n",
       "      <th>2136</th>\n",
       "      <td>15</td>\n",
       "      <td>129</td>\n",
       "      <td>[[0.024559984, 0.07460246, 0.027580341, -0.040...</td>\n",
       "      <td>0.0</td>\n",
       "    </tr>\n",
       "  </tbody>\n",
       "</table>\n",
       "<p>2137 rows × 4 columns</p>\n",
       "</div>"
      ],
      "text/plain": [
       "      MatchID  PeriodID                                       tweet_vector  \\\n",
       "0           0         0  [[0.03765871748328209, 0.07057545334100723, 0....   \n",
       "1           0         1  [[0.025599336251616478, 0.0652989074587822, 0....   \n",
       "2           0         2  [[0.029670257, 0.07340531, 0.006418672, -0.033...   \n",
       "3           0         3  [[0.030907733365893364, 0.06012047082185745, 0...   \n",
       "4           0         4  [[0.02883375, 0.07121538, 0.018995555, -0.0262...   \n",
       "...       ...       ...                                                ...   \n",
       "2132       15       125  [[0.034469195, 0.06374718, 0.044963595, -0.047...   \n",
       "2133       15       126  [[0.044445183, 0.07559718, 0.03417508, -0.0509...   \n",
       "2134       15       127  [[0.04381542, 0.07115657, 0.0370309, -0.053856...   \n",
       "2135       15       128  [[0.0412188358604908, 0.07847695052623749, 0.0...   \n",
       "2136       15       129  [[0.024559984, 0.07460246, 0.027580341, -0.040...   \n",
       "\n",
       "      EventType  \n",
       "0           0.0  \n",
       "1           0.0  \n",
       "2           0.0  \n",
       "3           0.0  \n",
       "4           0.0  \n",
       "...         ...  \n",
       "2132        1.0  \n",
       "2133        1.0  \n",
       "2134        1.0  \n",
       "2135        1.0  \n",
       "2136        0.0  \n",
       "\n",
       "[2137 rows x 4 columns]"
      ]
     },
     "execution_count": 122,
     "metadata": {},
     "output_type": "execute_result"
    }
   ],
   "source": [
    "df"
   ]
  },
  {
   "cell_type": "markdown",
   "metadata": {
    "id": "A0uLXd2pz1CQ"
   },
   "source": [
    "# Separate Train and Test data"
   ]
  },
  {
   "cell_type": "code",
   "execution_count": 123,
   "metadata": {},
   "outputs": [
    {
     "name": "stdout",
     "output_type": "stream",
     "text": [
      "[ 0  1  2  3  4  5  6  7  8  9 10 11 12 13 14 15]\n",
      "13\n"
     ]
    }
   ],
   "source": [
    "# train on of the first 13 of 16 matches (16*0.8=12.8~=13)\n",
    "# and the test data would be the last 3 matches. \n",
    "# Before submitting on Kaggle we should train on full dataset, so al 16 matches\n",
    "train_percentage = 0.8\n",
    "unique_match_ids = df['MatchID'].unique()\n",
    "print(unique_match_ids)\n",
    "num_matches_training = int(ceil(len(unique_match_ids)*train_percentage))\n",
    "print(num_matches_training)"
   ]
  },
  {
   "cell_type": "code",
   "execution_count": 124,
   "metadata": {},
   "outputs": [
    {
     "name": "stdout",
     "output_type": "stream",
     "text": [
      "13\n"
     ]
    }
   ],
   "source": [
    "target_match_id = num_matches_training\n",
    "# target_match_id is first match id that will appear in test set\n",
    "# all matches from target_match_id and after will be in test test\n",
    "print(target_match_id)"
   ]
  },
  {
   "cell_type": "code",
   "execution_count": 88,
   "metadata": {},
   "outputs": [],
   "source": [
    "\n",
    "#df2 = df['MatchID'] == 15\n",
    "#df2"
   ]
  },
  {
   "cell_type": "code",
   "execution_count": 125,
   "metadata": {},
   "outputs": [],
   "source": [
    "# row_index is first row with match id target_match_id\n",
    "# row_index is then the first row of the matches that will go to the test\n",
    "\n",
    "\n",
    "row_index = (df['MatchID'] == target_match_id).idxmax()\n",
    "#row_index = df[df['MatchID'] == target_match_id].first_valid_index()\n",
    "df_X_train = df[:row_index].copy()\n",
    "df_X_test = df[row_index:].copy()\n"
   ]
  },
  {
   "cell_type": "code",
   "execution_count": 126,
   "metadata": {},
   "outputs": [],
   "source": [
    "df_y_train = df_X_train['EventType']\n",
    "df_y_test = df_X_test['EventType']"
   ]
  },
  {
   "cell_type": "code",
   "execution_count": 127,
   "metadata": {},
   "outputs": [
    {
     "data": {
      "text/plain": [
       "0       0.0\n",
       "1       0.0\n",
       "2       0.0\n",
       "3       0.0\n",
       "4       0.0\n",
       "       ... \n",
       "1742    1.0\n",
       "1743    1.0\n",
       "1744    1.0\n",
       "1745    1.0\n",
       "1746    1.0\n",
       "Name: EventType, Length: 1747, dtype: float64"
      ]
     },
     "execution_count": 127,
     "metadata": {},
     "output_type": "execute_result"
    }
   ],
   "source": [
    "df_y_train"
   ]
  },
  {
   "cell_type": "code",
   "execution_count": 128,
   "metadata": {},
   "outputs": [
    {
     "data": {
      "text/plain": [
       "0      0.0\n",
       "1      0.0\n",
       "2      1.0\n",
       "3      1.0\n",
       "4      1.0\n",
       "      ... \n",
       "385    1.0\n",
       "386    1.0\n",
       "387    1.0\n",
       "388    1.0\n",
       "389    0.0\n",
       "Name: EventType, Length: 390, dtype: float64"
      ]
     },
     "execution_count": 128,
     "metadata": {},
     "output_type": "execute_result"
    }
   ],
   "source": [
    "df_y_test.reset_index(drop=True, inplace=True)\n",
    "df_y_test"
   ]
  },
  {
   "cell_type": "code",
   "execution_count": 129,
   "metadata": {},
   "outputs": [],
   "source": [
    "df_X_train.drop(['EventType'], axis=1, inplace=True)\n",
    "df_X_test.drop(['EventType'], axis=1, inplace=True)"
   ]
  },
  {
   "cell_type": "code",
   "execution_count": 130,
   "metadata": {},
   "outputs": [
    {
     "data": {
      "text/html": [
       "<div>\n",
       "<style scoped>\n",
       "    .dataframe tbody tr th:only-of-type {\n",
       "        vertical-align: middle;\n",
       "    }\n",
       "\n",
       "    .dataframe tbody tr th {\n",
       "        vertical-align: top;\n",
       "    }\n",
       "\n",
       "    .dataframe thead th {\n",
       "        text-align: right;\n",
       "    }\n",
       "</style>\n",
       "<table border=\"1\" class=\"dataframe\">\n",
       "  <thead>\n",
       "    <tr style=\"text-align: right;\">\n",
       "      <th></th>\n",
       "      <th>MatchID</th>\n",
       "      <th>PeriodID</th>\n",
       "      <th>tweet_vector</th>\n",
       "    </tr>\n",
       "  </thead>\n",
       "  <tbody>\n",
       "    <tr>\n",
       "      <th>0</th>\n",
       "      <td>0</td>\n",
       "      <td>0</td>\n",
       "      <td>[[0.03765871748328209, 0.07057545334100723, 0....</td>\n",
       "    </tr>\n",
       "    <tr>\n",
       "      <th>1</th>\n",
       "      <td>0</td>\n",
       "      <td>1</td>\n",
       "      <td>[[0.025599336251616478, 0.0652989074587822, 0....</td>\n",
       "    </tr>\n",
       "    <tr>\n",
       "      <th>2</th>\n",
       "      <td>0</td>\n",
       "      <td>2</td>\n",
       "      <td>[[0.029670257, 0.07340531, 0.006418672, -0.033...</td>\n",
       "    </tr>\n",
       "    <tr>\n",
       "      <th>3</th>\n",
       "      <td>0</td>\n",
       "      <td>3</td>\n",
       "      <td>[[0.030907733365893364, 0.06012047082185745, 0...</td>\n",
       "    </tr>\n",
       "    <tr>\n",
       "      <th>4</th>\n",
       "      <td>0</td>\n",
       "      <td>4</td>\n",
       "      <td>[[0.02883375, 0.07121538, 0.018995555, -0.0262...</td>\n",
       "    </tr>\n",
       "    <tr>\n",
       "      <th>...</th>\n",
       "      <td>...</td>\n",
       "      <td>...</td>\n",
       "      <td>...</td>\n",
       "    </tr>\n",
       "    <tr>\n",
       "      <th>1742</th>\n",
       "      <td>12</td>\n",
       "      <td>125</td>\n",
       "      <td>[[0.0032179116, 0.08141216, 0.020280385, -0.05...</td>\n",
       "    </tr>\n",
       "    <tr>\n",
       "      <th>1743</th>\n",
       "      <td>12</td>\n",
       "      <td>126</td>\n",
       "      <td>[[0.011866402, 0.07410982, 0.019072963, -0.054...</td>\n",
       "    </tr>\n",
       "    <tr>\n",
       "      <th>1744</th>\n",
       "      <td>12</td>\n",
       "      <td>127</td>\n",
       "      <td>[[0.013964032, 0.07138574, 0.017871283, -0.060...</td>\n",
       "    </tr>\n",
       "    <tr>\n",
       "      <th>1745</th>\n",
       "      <td>12</td>\n",
       "      <td>128</td>\n",
       "      <td>[[0.011809887, 0.07534478, 0.016351322, -0.054...</td>\n",
       "    </tr>\n",
       "    <tr>\n",
       "      <th>1746</th>\n",
       "      <td>12</td>\n",
       "      <td>129</td>\n",
       "      <td>[[0.009382253, 0.06030875, 0.03435392, -0.0718...</td>\n",
       "    </tr>\n",
       "  </tbody>\n",
       "</table>\n",
       "<p>1747 rows × 3 columns</p>\n",
       "</div>"
      ],
      "text/plain": [
       "      MatchID  PeriodID                                       tweet_vector\n",
       "0           0         0  [[0.03765871748328209, 0.07057545334100723, 0....\n",
       "1           0         1  [[0.025599336251616478, 0.0652989074587822, 0....\n",
       "2           0         2  [[0.029670257, 0.07340531, 0.006418672, -0.033...\n",
       "3           0         3  [[0.030907733365893364, 0.06012047082185745, 0...\n",
       "4           0         4  [[0.02883375, 0.07121538, 0.018995555, -0.0262...\n",
       "...       ...       ...                                                ...\n",
       "1742       12       125  [[0.0032179116, 0.08141216, 0.020280385, -0.05...\n",
       "1743       12       126  [[0.011866402, 0.07410982, 0.019072963, -0.054...\n",
       "1744       12       127  [[0.013964032, 0.07138574, 0.017871283, -0.060...\n",
       "1745       12       128  [[0.011809887, 0.07534478, 0.016351322, -0.054...\n",
       "1746       12       129  [[0.009382253, 0.06030875, 0.03435392, -0.0718...\n",
       "\n",
       "[1747 rows x 3 columns]"
      ]
     },
     "execution_count": 130,
     "metadata": {},
     "output_type": "execute_result"
    }
   ],
   "source": [
    "df_X_train"
   ]
  },
  {
   "cell_type": "code",
   "execution_count": 131,
   "metadata": {},
   "outputs": [
    {
     "data": {
      "text/html": [
       "<div>\n",
       "<style scoped>\n",
       "    .dataframe tbody tr th:only-of-type {\n",
       "        vertical-align: middle;\n",
       "    }\n",
       "\n",
       "    .dataframe tbody tr th {\n",
       "        vertical-align: top;\n",
       "    }\n",
       "\n",
       "    .dataframe thead th {\n",
       "        text-align: right;\n",
       "    }\n",
       "</style>\n",
       "<table border=\"1\" class=\"dataframe\">\n",
       "  <thead>\n",
       "    <tr style=\"text-align: right;\">\n",
       "      <th></th>\n",
       "      <th>MatchID</th>\n",
       "      <th>PeriodID</th>\n",
       "      <th>tweet_vector</th>\n",
       "    </tr>\n",
       "  </thead>\n",
       "  <tbody>\n",
       "    <tr>\n",
       "      <th>0</th>\n",
       "      <td>13</td>\n",
       "      <td>0</td>\n",
       "      <td>[[0.04355798, 0.07092691, 0.0026004277, -0.025...</td>\n",
       "    </tr>\n",
       "    <tr>\n",
       "      <th>1</th>\n",
       "      <td>13</td>\n",
       "      <td>1</td>\n",
       "      <td>[[0.04902947, 0.06633132, -0.00224172, -0.0245...</td>\n",
       "    </tr>\n",
       "    <tr>\n",
       "      <th>2</th>\n",
       "      <td>13</td>\n",
       "      <td>2</td>\n",
       "      <td>[[0.038465895, 0.08396831, -0.016891256, -0.02...</td>\n",
       "    </tr>\n",
       "    <tr>\n",
       "      <th>3</th>\n",
       "      <td>13</td>\n",
       "      <td>3</td>\n",
       "      <td>[[0.04429667, 0.06179851, -0.0017939284, -0.02...</td>\n",
       "    </tr>\n",
       "    <tr>\n",
       "      <th>4</th>\n",
       "      <td>13</td>\n",
       "      <td>4</td>\n",
       "      <td>[[0.037068717, 0.06616976, -0.0033581697, -0.0...</td>\n",
       "    </tr>\n",
       "    <tr>\n",
       "      <th>...</th>\n",
       "      <td>...</td>\n",
       "      <td>...</td>\n",
       "      <td>...</td>\n",
       "    </tr>\n",
       "    <tr>\n",
       "      <th>385</th>\n",
       "      <td>15</td>\n",
       "      <td>125</td>\n",
       "      <td>[[0.034469195, 0.06374718, 0.044963595, -0.047...</td>\n",
       "    </tr>\n",
       "    <tr>\n",
       "      <th>386</th>\n",
       "      <td>15</td>\n",
       "      <td>126</td>\n",
       "      <td>[[0.044445183, 0.07559718, 0.03417508, -0.0509...</td>\n",
       "    </tr>\n",
       "    <tr>\n",
       "      <th>387</th>\n",
       "      <td>15</td>\n",
       "      <td>127</td>\n",
       "      <td>[[0.04381542, 0.07115657, 0.0370309, -0.053856...</td>\n",
       "    </tr>\n",
       "    <tr>\n",
       "      <th>388</th>\n",
       "      <td>15</td>\n",
       "      <td>128</td>\n",
       "      <td>[[0.0412188358604908, 0.07847695052623749, 0.0...</td>\n",
       "    </tr>\n",
       "    <tr>\n",
       "      <th>389</th>\n",
       "      <td>15</td>\n",
       "      <td>129</td>\n",
       "      <td>[[0.024559984, 0.07460246, 0.027580341, -0.040...</td>\n",
       "    </tr>\n",
       "  </tbody>\n",
       "</table>\n",
       "<p>390 rows × 3 columns</p>\n",
       "</div>"
      ],
      "text/plain": [
       "     MatchID  PeriodID                                       tweet_vector\n",
       "0         13         0  [[0.04355798, 0.07092691, 0.0026004277, -0.025...\n",
       "1         13         1  [[0.04902947, 0.06633132, -0.00224172, -0.0245...\n",
       "2         13         2  [[0.038465895, 0.08396831, -0.016891256, -0.02...\n",
       "3         13         3  [[0.04429667, 0.06179851, -0.0017939284, -0.02...\n",
       "4         13         4  [[0.037068717, 0.06616976, -0.0033581697, -0.0...\n",
       "..       ...       ...                                                ...\n",
       "385       15       125  [[0.034469195, 0.06374718, 0.044963595, -0.047...\n",
       "386       15       126  [[0.044445183, 0.07559718, 0.03417508, -0.0509...\n",
       "387       15       127  [[0.04381542, 0.07115657, 0.0370309, -0.053856...\n",
       "388       15       128  [[0.0412188358604908, 0.07847695052623749, 0.0...\n",
       "389       15       129  [[0.024559984, 0.07460246, 0.027580341, -0.040...\n",
       "\n",
       "[390 rows x 3 columns]"
      ]
     },
     "execution_count": 131,
     "metadata": {},
     "output_type": "execute_result"
    }
   ],
   "source": [
    "df_X_test.reset_index(drop=True, inplace=True)\n",
    "df_X_test"
   ]
  },
  {
   "cell_type": "code",
   "execution_count": 96,
   "metadata": {},
   "outputs": [],
   "source": [
    "# now df_X_train and df_X_test should have columns MatchID, PeriodID, tweet_vector. Tweet_vector is just 200 columns\n",
    "# df_y_train and df_y_test should have 1 column, EventType\n",
    "# the matchids are grouped together so all the rows of the same\n",
    "# match ids are grouped next to each other, and the periodID are ordered chronologically."
   ]
  },
  {
   "cell_type": "code",
   "execution_count": 97,
   "metadata": {},
   "outputs": [],
   "source": [
    "# not working on my machine so I keep DF\n",
    "\n",
    "# now we have df_X_train, df_X_test, df_y_train, df_y_test\n",
    "# we no longer need df so we should free up the memory\n",
    "# del df  # remove reference to the original DataFrame\n",
    "# gc.collect()  # force garbage collection to free up memory"
   ]
  },
  {
   "cell_type": "code",
   "execution_count": 132,
   "metadata": {
    "editable": true,
    "slideshow": {
     "slide_type": ""
    },
    "tags": []
   },
   "outputs": [
    {
     "data": {
      "text/html": [
       "<div>\n",
       "<style scoped>\n",
       "    .dataframe tbody tr th:only-of-type {\n",
       "        vertical-align: middle;\n",
       "    }\n",
       "\n",
       "    .dataframe tbody tr th {\n",
       "        vertical-align: top;\n",
       "    }\n",
       "\n",
       "    .dataframe thead th {\n",
       "        text-align: right;\n",
       "    }\n",
       "</style>\n",
       "<table border=\"1\" class=\"dataframe\">\n",
       "  <thead>\n",
       "    <tr style=\"text-align: right;\">\n",
       "      <th></th>\n",
       "      <th>MatchID</th>\n",
       "      <th>PeriodID</th>\n",
       "    </tr>\n",
       "  </thead>\n",
       "  <tbody>\n",
       "    <tr>\n",
       "      <th>0</th>\n",
       "      <td>0</td>\n",
       "      <td>129</td>\n",
       "    </tr>\n",
       "    <tr>\n",
       "      <th>1</th>\n",
       "      <td>1</td>\n",
       "      <td>179</td>\n",
       "    </tr>\n",
       "    <tr>\n",
       "      <th>2</th>\n",
       "      <td>2</td>\n",
       "      <td>96</td>\n",
       "    </tr>\n",
       "    <tr>\n",
       "      <th>3</th>\n",
       "      <td>3</td>\n",
       "      <td>129</td>\n",
       "    </tr>\n",
       "    <tr>\n",
       "      <th>4</th>\n",
       "      <td>4</td>\n",
       "      <td>129</td>\n",
       "    </tr>\n",
       "    <tr>\n",
       "      <th>5</th>\n",
       "      <td>5</td>\n",
       "      <td>129</td>\n",
       "    </tr>\n",
       "    <tr>\n",
       "      <th>6</th>\n",
       "      <td>6</td>\n",
       "      <td>129</td>\n",
       "    </tr>\n",
       "    <tr>\n",
       "      <th>7</th>\n",
       "      <td>7</td>\n",
       "      <td>129</td>\n",
       "    </tr>\n",
       "    <tr>\n",
       "      <th>8</th>\n",
       "      <td>8</td>\n",
       "      <td>169</td>\n",
       "    </tr>\n",
       "    <tr>\n",
       "      <th>9</th>\n",
       "      <td>9</td>\n",
       "      <td>129</td>\n",
       "    </tr>\n",
       "    <tr>\n",
       "      <th>10</th>\n",
       "      <td>10</td>\n",
       "      <td>129</td>\n",
       "    </tr>\n",
       "    <tr>\n",
       "      <th>11</th>\n",
       "      <td>11</td>\n",
       "      <td>129</td>\n",
       "    </tr>\n",
       "    <tr>\n",
       "      <th>12</th>\n",
       "      <td>12</td>\n",
       "      <td>129</td>\n",
       "    </tr>\n",
       "  </tbody>\n",
       "</table>\n",
       "</div>"
      ],
      "text/plain": [
       "    MatchID  PeriodID\n",
       "0         0       129\n",
       "1         1       179\n",
       "2         2        96\n",
       "3         3       129\n",
       "4         4       129\n",
       "5         5       129\n",
       "6         6       129\n",
       "7         7       129\n",
       "8         8       169\n",
       "9         9       129\n",
       "10       10       129\n",
       "11       11       129\n",
       "12       12       129"
      ]
     },
     "execution_count": 132,
     "metadata": {},
     "output_type": "execute_result"
    }
   ],
   "source": [
    "max_periods = df_X_train.groupby('MatchID')['PeriodID'].max().reset_index()\n",
    "max_periods\n",
    "# as we can see not every match has the same number of periods!"
   ]
  },
  {
   "cell_type": "code",
   "execution_count": 133,
   "metadata": {},
   "outputs": [
    {
     "data": {
      "text/html": [
       "<div>\n",
       "<style scoped>\n",
       "    .dataframe tbody tr th:only-of-type {\n",
       "        vertical-align: middle;\n",
       "    }\n",
       "\n",
       "    .dataframe tbody tr th {\n",
       "        vertical-align: top;\n",
       "    }\n",
       "\n",
       "    .dataframe thead th {\n",
       "        text-align: right;\n",
       "    }\n",
       "</style>\n",
       "<table border=\"1\" class=\"dataframe\">\n",
       "  <thead>\n",
       "    <tr style=\"text-align: right;\">\n",
       "      <th></th>\n",
       "      <th>MatchID</th>\n",
       "      <th>PeriodID</th>\n",
       "    </tr>\n",
       "  </thead>\n",
       "  <tbody>\n",
       "    <tr>\n",
       "      <th>0</th>\n",
       "      <td>13</td>\n",
       "      <td>129</td>\n",
       "    </tr>\n",
       "    <tr>\n",
       "      <th>1</th>\n",
       "      <td>14</td>\n",
       "      <td>129</td>\n",
       "    </tr>\n",
       "    <tr>\n",
       "      <th>2</th>\n",
       "      <td>15</td>\n",
       "      <td>129</td>\n",
       "    </tr>\n",
       "  </tbody>\n",
       "</table>\n",
       "</div>"
      ],
      "text/plain": [
       "   MatchID  PeriodID\n",
       "0       13       129\n",
       "1       14       129\n",
       "2       15       129"
      ]
     },
     "execution_count": 133,
     "metadata": {},
     "output_type": "execute_result"
    }
   ],
   "source": [
    "max_periods = df_X_test.groupby('MatchID')['PeriodID'].max().reset_index()\n",
    "max_periods"
   ]
  },
  {
   "cell_type": "markdown",
   "metadata": {},
   "source": [
    "# Format data for PyTorch LSTM"
   ]
  },
  {
   "cell_type": "code",
   "execution_count": 100,
   "metadata": {},
   "outputs": [],
   "source": [
    "# input tensor for a PyTorch LSTM should have the shape of (when setting batch_first=True)\n",
    "# (batch_size, seq_len, num_features) when using the batch_first=True parameter\n",
    "# batch_size is number of sequences processed at once\n",
    "\n",
    "# TRY WITHOUT SLIDING WINDOW APPROACH\n",
    "#    which would mean batch size = number of matches\n",
    "#    much easier to format for LSTM as 3D tensor\n",
    "#    dimension of 3D tensor with batch_first=True:(batch_size = num_matches, seq_len = num_periods, num _features = 200)\n",
    "#    (match_id, period_id, num_features=200)\n",
    "#     not every match has the same number of periods!, so seq_len can vary between different matches\n",
    "#     fix: will have to pad with zeroes\n",
    "# we want tensor[match_id][period_id] to return list len 200 of corresponding tweet vector\n"
   ]
  },
  {
   "cell_type": "code",
   "execution_count": 136,
   "metadata": {},
   "outputs": [
    {
     "data": {
      "text/html": [
       "<div>\n",
       "<style scoped>\n",
       "    .dataframe tbody tr th:only-of-type {\n",
       "        vertical-align: middle;\n",
       "    }\n",
       "\n",
       "    .dataframe tbody tr th {\n",
       "        vertical-align: top;\n",
       "    }\n",
       "\n",
       "    .dataframe thead th {\n",
       "        text-align: right;\n",
       "    }\n",
       "</style>\n",
       "<table border=\"1\" class=\"dataframe\">\n",
       "  <thead>\n",
       "    <tr style=\"text-align: right;\">\n",
       "      <th></th>\n",
       "      <th>MatchID</th>\n",
       "      <th>PeriodID</th>\n",
       "      <th>tweet_vector</th>\n",
       "    </tr>\n",
       "  </thead>\n",
       "  <tbody>\n",
       "    <tr>\n",
       "      <th>0</th>\n",
       "      <td>0</td>\n",
       "      <td>0</td>\n",
       "      <td>[[0.03765871748328209, 0.07057545334100723, 0....</td>\n",
       "    </tr>\n",
       "    <tr>\n",
       "      <th>1</th>\n",
       "      <td>0</td>\n",
       "      <td>1</td>\n",
       "      <td>[[0.025599336251616478, 0.0652989074587822, 0....</td>\n",
       "    </tr>\n",
       "    <tr>\n",
       "      <th>2</th>\n",
       "      <td>0</td>\n",
       "      <td>2</td>\n",
       "      <td>[[0.029670257, 0.07340531, 0.006418672, -0.033...</td>\n",
       "    </tr>\n",
       "    <tr>\n",
       "      <th>3</th>\n",
       "      <td>0</td>\n",
       "      <td>3</td>\n",
       "      <td>[[0.030907733365893364, 0.06012047082185745, 0...</td>\n",
       "    </tr>\n",
       "    <tr>\n",
       "      <th>4</th>\n",
       "      <td>0</td>\n",
       "      <td>4</td>\n",
       "      <td>[[0.02883375, 0.07121538, 0.018995555, -0.0262...</td>\n",
       "    </tr>\n",
       "    <tr>\n",
       "      <th>...</th>\n",
       "      <td>...</td>\n",
       "      <td>...</td>\n",
       "      <td>...</td>\n",
       "    </tr>\n",
       "    <tr>\n",
       "      <th>1742</th>\n",
       "      <td>12</td>\n",
       "      <td>125</td>\n",
       "      <td>[[0.0032179116, 0.08141216, 0.020280385, -0.05...</td>\n",
       "    </tr>\n",
       "    <tr>\n",
       "      <th>1743</th>\n",
       "      <td>12</td>\n",
       "      <td>126</td>\n",
       "      <td>[[0.011866402, 0.07410982, 0.019072963, -0.054...</td>\n",
       "    </tr>\n",
       "    <tr>\n",
       "      <th>1744</th>\n",
       "      <td>12</td>\n",
       "      <td>127</td>\n",
       "      <td>[[0.013964032, 0.07138574, 0.017871283, -0.060...</td>\n",
       "    </tr>\n",
       "    <tr>\n",
       "      <th>1745</th>\n",
       "      <td>12</td>\n",
       "      <td>128</td>\n",
       "      <td>[[0.011809887, 0.07534478, 0.016351322, -0.054...</td>\n",
       "    </tr>\n",
       "    <tr>\n",
       "      <th>1746</th>\n",
       "      <td>12</td>\n",
       "      <td>129</td>\n",
       "      <td>[[0.009382253, 0.06030875, 0.03435392, -0.0718...</td>\n",
       "    </tr>\n",
       "  </tbody>\n",
       "</table>\n",
       "<p>1747 rows × 3 columns</p>\n",
       "</div>"
      ],
      "text/plain": [
       "      MatchID  PeriodID                                       tweet_vector\n",
       "0           0         0  [[0.03765871748328209, 0.07057545334100723, 0....\n",
       "1           0         1  [[0.025599336251616478, 0.0652989074587822, 0....\n",
       "2           0         2  [[0.029670257, 0.07340531, 0.006418672, -0.033...\n",
       "3           0         3  [[0.030907733365893364, 0.06012047082185745, 0...\n",
       "4           0         4  [[0.02883375, 0.07121538, 0.018995555, -0.0262...\n",
       "...       ...       ...                                                ...\n",
       "1742       12       125  [[0.0032179116, 0.08141216, 0.020280385, -0.05...\n",
       "1743       12       126  [[0.011866402, 0.07410982, 0.019072963, -0.054...\n",
       "1744       12       127  [[0.013964032, 0.07138574, 0.017871283, -0.060...\n",
       "1745       12       128  [[0.011809887, 0.07534478, 0.016351322, -0.054...\n",
       "1746       12       129  [[0.009382253, 0.06030875, 0.03435392, -0.0718...\n",
       "\n",
       "[1747 rows x 3 columns]"
      ]
     },
     "execution_count": 136,
     "metadata": {},
     "output_type": "execute_result"
    }
   ],
   "source": [
    "df_X_train"
   ]
  },
  {
   "cell_type": "code",
   "execution_count": 137,
   "metadata": {},
   "outputs": [
    {
     "name": "stdout",
     "output_type": "stream",
     "text": [
      "(1747, 50, 200)\n",
      "(1747,)\n"
     ]
    }
   ],
   "source": [
    "# modified for array tweet_vector column\n",
    "def convert_df_to_3D_tensor(df_X, df_y):\n",
    "    # df_X should have columns MatchID, PeriodID, tweet_vector. Tweet_vector is just 200x1 array\n",
    "    # rows with same matchID should be grouped together (adjacent rows)\n",
    "    # df_y should have one column (the EventType)\n",
    "    # returns tensor_X numpy array already padded! shape: (num_matches, max_num_periods, num _features = 200)\n",
    "    # and tensor_y of shape: (num_matches, max_num_periods)\n",
    "    num_matches = len(df_X['MatchID'].unique())\n",
    "    max_periods = df_X.groupby('MatchID')['PeriodID'].max().reset_index()\n",
    "    total_max_period = max_periods['PeriodID'].max()\n",
    "    #total_max_period is max seq len\n",
    "\n",
    "    tensor_X = np.zeros((len(df_X), 50, 200))\n",
    "\n",
    "    tensor_y = np.zeros((len(df_y,)))\n",
    "    print(tensor_X.shape)\n",
    "    print(tensor_y.shape)\n",
    "    \n",
    "    for row_index, row in df_X.iterrows():\n",
    "        i = row_index        \n",
    "        features = row['tweet_vector']  # Skip MatchID and PeriodID\n",
    "        tensor_X[i, :, :] = features\n",
    "        tensor_y[i] = df_y[row_index]\n",
    "        \n",
    "    return tensor_X, tensor_y\n",
    "\n",
    "\n",
    "X_train_tensor, y_train_tensor = convert_df_to_3D_tensor(df_X_train, df_y_train)\n",
    "# X_train_tensor[match_id][period_id] to return list len 200 of corresponding tweet vector\n",
    "# y_train_tensor[match_id][period_id] to return corresponding EventType (1 or 0)\n",
    "# match_id index starts at 0 even if first match in df doesnt have match id 0\n",
    "#X_train_tensor[12][175]\n",
    "#X_train_tensor[12][179]\n",
    "#X_train_tensor[2][129]\n"
   ]
  },
  {
   "cell_type": "code",
   "execution_count": 102,
   "metadata": {},
   "outputs": [],
   "source": [
    "#print(X_train_tensor[0][3])\n",
    "#print(y_train_tensor[0][3])"
   ]
  },
  {
   "cell_type": "code",
   "execution_count": 138,
   "metadata": {},
   "outputs": [
    {
     "name": "stdout",
     "output_type": "stream",
     "text": [
      "torch.Size([1747, 50, 200])\n",
      "torch.Size([1747])\n"
     ]
    }
   ],
   "source": [
    "# SCALE DATA? minmaxscaler for example!\n",
    "# SCALING MIGHT BE UNNECESSARY SINCE OUTPUT OF GLOVE TWEET 200 IS ALREADY SCALED BETWEEN -1 AND 1\n",
    "#scaler = MinMaxScaler()\n",
    "#tensor = scaler.fit_transform(tensor)\n",
    "\n",
    "# CONVERT TO PYTORCH TENSOR\n",
    "X_train_tensor = torch.tensor(X_train_tensor, dtype=torch.float32)\n",
    "y_train_tensor = torch.tensor(y_train_tensor, dtype=torch.float32)\n",
    "\n",
    "print(X_train_tensor.shape)\n",
    "print(y_train_tensor.shape)\n",
    "# X_train_tensor, y_train_tensor are now pytorch tensors"
   ]
  },
  {
   "cell_type": "markdown",
   "metadata": {},
   "source": [
    "# LSTM Model"
   ]
  },
  {
   "cell_type": "code",
   "execution_count": 141,
   "metadata": {},
   "outputs": [],
   "source": [
    "# TODO VERIFY ITS CORRECT + MAKE MORE SOPHISTICATED\n",
    "class LSTMModel(nn.Module):\n",
    "    def __init__(self, input_size, hidden_size, num_layers, dropout_rate):\n",
    "        super(LSTMModel, self).__init__()\n",
    "        self.lstm = nn.LSTM(input_size, hidden_size, num_layers, batch_first=True, dropout=dropout_rate)\n",
    "        self.fc = nn.Linear(hidden_size, 1)\n",
    "        self.sigmoid = nn.Sigmoid()\n",
    "\n",
    "    def forward(self, x):\n",
    "        lstm_out, _ = self.lstm(x)\n",
    "        out = self.fc(lstm_out)\n",
    "        out = out[:,-1,:]\n",
    "        out = self.sigmoid(out) # applying sigmoid to convert to probabilities\n",
    "        return out.squeeze(-1)\n",
    "\n",
    "#TODOOOOOOOOOO torch.nn.utils.rnn.pack_padded_sequence. This allows the model to ignore the padded values during computation."
   ]
  },
  {
   "cell_type": "code",
   "execution_count": 148,
   "metadata": {},
   "outputs": [],
   "source": [
    "batch_size = 64\n",
    "batch_idxs = list(range(0,X_train_tensor.shape[0],batch_size))\n",
    "batched_data = []\n",
    "for idx in batch_idxs:\n",
    "    batched_data.append((X_train_tensor[idx:idx+batch_size], y_train_tensor[idx:idx+batch_size]))"
   ]
  },
  {
   "cell_type": "markdown",
   "metadata": {},
   "source": [
    "# Train model"
   ]
  },
  {
   "cell_type": "code",
   "execution_count": null,
   "metadata": {},
   "outputs": [
    {
     "name": "stdout",
     "output_type": "stream",
     "text": [
      "Epoch [0/500], Loss: 0.6578\n",
      "Epoch [10/500], Loss: 0.6091\n",
      "Epoch [20/500], Loss: 0.6051\n",
      "Epoch [30/500], Loss: 0.6027\n",
      "Epoch [40/500], Loss: 0.6016\n"
     ]
    }
   ],
   "source": [
    "hidden_size = 500 # can tune\n",
    "num_layers = 4 # can tune\n",
    "dropout_rate = 0.2 # can tune\n",
    "num_epochs = 500 # can tune\n",
    "lr = 0.001 # can tune\n",
    "\n",
    "model = LSTMModel(input_size=200, hidden_size=hidden_size, num_layers=num_layers, dropout_rate=dropout_rate)\n",
    "optimizer = optim.Adam(model.parameters(), lr=lr)\n",
    "criterion = nn.BCELoss() # great for binary classification\n",
    "#print(f\"Shape of X_train_tensor: {X_train_tensor.shape}\")\n",
    "model.train()\n",
    "for epoch in range(num_epochs):\n",
    "    for train, label in batched_data:\n",
    "        optimizer.zero_grad()\n",
    "        outputs = model(train)\n",
    "        #print(f\"shape of outputs: {outputs.shape}\")\n",
    "        \n",
    "        loss = criterion(outputs, label)\n",
    "        loss.backward()\n",
    "        optimizer.step()\n",
    "    if epoch % 10 == 0:\n",
    "        print(f\"Epoch [{epoch}/{num_epochs}], Loss: {loss.item():.4f}\")\n",
    "\n",
    "print(\"Model is trained! (on training data)\")"
   ]
  },
  {
   "cell_type": "markdown",
   "metadata": {},
   "source": [
    "# Evaluate on test data"
   ]
  },
  {
   "cell_type": "code",
   "execution_count": 167,
   "metadata": {},
   "outputs": [
    {
     "name": "stdout",
     "output_type": "stream",
     "text": [
      "(3, 130, 200)\n",
      "(3, 130)\n"
     ]
    }
   ],
   "source": [
    "# convert df_X_test and df_y_test to correct format/dimensions\n",
    "X_test_tensor, y_test_tensor = convert_df_to_3D_tensor(df_X_test, df_y_test)\n",
    "# CONVERT TO PYTORCH TENSOR\n",
    "X_test_tensor = torch.tensor(X_test_tensor, dtype=torch.float32)\n",
    "y_test_tensor = torch.tensor(y_test_tensor, dtype=torch.float32)"
   ]
  },
  {
   "cell_type": "code",
   "execution_count": 117,
   "metadata": {},
   "outputs": [],
   "source": [
    "#print(X_test_tensor[2][129])\n",
    "#print(y_test_tensor[2][129])"
   ]
  },
  {
   "cell_type": "code",
   "execution_count": 168,
   "metadata": {},
   "outputs": [],
   "source": [
    "\n",
    "\n",
    "\n",
    "\n",
    "model.eval()\n",
    "\n",
    "with torch.no_grad():\n",
    "    predictions = model(X_test_tensor)\n",
    "\n",
    "# predictions have values between 0 and 1 because forward pass of LSTM contains sigmoid at output\n",
    "#print(predictions)\n",
    "\n",
    "predicted_classes = (predictions > 0.5).float() # 0.5 is threshold\n",
    "#this converts to same dimensional array of True or false, and .float() converts True to 1 and False to 0\n",
    "\n",
    "#print(predicted_classes)\n",
    " "
   ]
  },
  {
   "cell_type": "code",
   "execution_count": 2,
   "metadata": {},
   "outputs": [
    {
     "ename": "NameError",
     "evalue": "name 'predicted_classes' is not defined",
     "output_type": "error",
     "traceback": [
      "\u001b[1;31m---------------------------------------------------------------------------\u001b[0m",
      "\u001b[1;31mNameError\u001b[0m                                 Traceback (most recent call last)",
      "Cell \u001b[1;32mIn[2], line 1\u001b[0m\n\u001b[1;32m----> 1\u001b[0m \u001b[43mpredicted_classes\u001b[49m\n",
      "\u001b[1;31mNameError\u001b[0m: name 'predicted_classes' is not defined"
     ]
    }
   ],
   "source": [
    "predicted_classes"
   ]
  },
  {
   "cell_type": "code",
   "execution_count": 119,
   "metadata": {},
   "outputs": [],
   "source": [
    "#print(predictions.shape)"
   ]
  },
  {
   "cell_type": "code",
   "execution_count": 172,
   "metadata": {},
   "outputs": [
    {
     "name": "stdout",
     "output_type": "stream",
     "text": [
      "Binary Cross-Entropy Loss: 1.3613\n",
      "Accuracy: 68.2051\n"
     ]
    }
   ],
   "source": [
    "# performance metrics\n",
    "from random import randint\n",
    "\n",
    "loss = criterion(predictions, y_test_tensor) # use predictions for loss calculation\n",
    "\n",
    "print(f\"Binary Cross-Entropy Loss: {loss.item():.4f}\")\n",
    "\n",
    "def accuracy(y_true, y_pred):\n",
    "    if y_true.dtype != y_pred.dtype or y_true.shape != y_pred.shape:\n",
    "        raise ValueError(f\"Inputs do not have same type or shape!\")\n",
    "    y_rand = torch.randint(0,2,y_true.shape)\n",
    "    correct_predictions = (y_true == y_pred).sum().item()\n",
    "    total_predictions = y_true.numel()\n",
    "    accuracy = correct_predictions / total_predictions * 100\n",
    "    return accuracy\n",
    "accuracy = accuracy(y_test_tensor, predicted_classes)\n",
    "\n",
    "\n",
    "print(f\"Accuracy: {accuracy:.4f}\")\n",
    "\n",
    "#print(y_test_tensor.shape)\n",
    "#print(predicted_classes.shape)\n",
    "\n",
    "\n",
    "# Visualization of Actual vs Predicted Classes\n",
    "# import matplotlib.pyplot as plt\n",
    "# TODO COULD USE PLT TO VISUALIZE?"
   ]
  },
  {
   "cell_type": "markdown",
   "metadata": {},
   "source": [
    "# For Kaggle Submission"
   ]
  },
  {
   "cell_type": "code",
   "execution_count": 111,
   "metadata": {},
   "outputs": [],
   "source": [
    "# RETRAIN MODEL ON ENTIRE TRAINING DATA AND EVALUATE EVAL TWEETS\n",
    "\n",
    "\n",
    "\n",
    "\n",
    "df_X = pd.concat([df_X_train, df_X_test], ignore_index=True)\n",
    "df_y = pd.concat([df_y_train, df_y_test], ignore_index=True)\n",
    "\n",
    "\n"
   ]
  },
  {
   "cell_type": "code",
   "execution_count": 112,
   "metadata": {},
   "outputs": [
    {
     "data": {
      "text/html": [
       "<div>\n",
       "<style scoped>\n",
       "    .dataframe tbody tr th:only-of-type {\n",
       "        vertical-align: middle;\n",
       "    }\n",
       "\n",
       "    .dataframe tbody tr th {\n",
       "        vertical-align: top;\n",
       "    }\n",
       "\n",
       "    .dataframe thead th {\n",
       "        text-align: right;\n",
       "    }\n",
       "</style>\n",
       "<table border=\"1\" class=\"dataframe\">\n",
       "  <thead>\n",
       "    <tr style=\"text-align: right;\">\n",
       "      <th></th>\n",
       "      <th>MatchID</th>\n",
       "      <th>PeriodID</th>\n",
       "      <th>tweet_vector</th>\n",
       "    </tr>\n",
       "  </thead>\n",
       "  <tbody>\n",
       "    <tr>\n",
       "      <th>0</th>\n",
       "      <td>0</td>\n",
       "      <td>0</td>\n",
       "      <td>[3098.4608585517853, 6436.185963880271, 363.53...</td>\n",
       "    </tr>\n",
       "    <tr>\n",
       "      <th>1</th>\n",
       "      <td>0</td>\n",
       "      <td>1</td>\n",
       "      <td>[2493.7816506992094, 5349.19354169257, 284.537...</td>\n",
       "    </tr>\n",
       "    <tr>\n",
       "      <th>2</th>\n",
       "      <td>0</td>\n",
       "      <td>2</td>\n",
       "      <td>[1972.8186, 4104.4824, 323.55396, -1203.197, -...</td>\n",
       "    </tr>\n",
       "    <tr>\n",
       "      <th>3</th>\n",
       "      <td>0</td>\n",
       "      <td>3</td>\n",
       "      <td>[2432.1588252037764, 5373.947940472513, 723.78...</td>\n",
       "    </tr>\n",
       "    <tr>\n",
       "      <th>4</th>\n",
       "      <td>0</td>\n",
       "      <td>4</td>\n",
       "      <td>[2607.9675, 5692.466, 748.0113, -1843.9877, -3...</td>\n",
       "    </tr>\n",
       "    <tr>\n",
       "      <th>...</th>\n",
       "      <td>...</td>\n",
       "      <td>...</td>\n",
       "      <td>...</td>\n",
       "    </tr>\n",
       "    <tr>\n",
       "      <th>2132</th>\n",
       "      <td>15</td>\n",
       "      <td>125</td>\n",
       "      <td>[1768.0021, 3085.3567, 1567.4435, -1976.7213, ...</td>\n",
       "    </tr>\n",
       "    <tr>\n",
       "      <th>2133</th>\n",
       "      <td>15</td>\n",
       "      <td>126</td>\n",
       "      <td>[1547.5847, 2672.128, 1288.0339, -1692.0323, 4...</td>\n",
       "    </tr>\n",
       "    <tr>\n",
       "      <th>2134</th>\n",
       "      <td>15</td>\n",
       "      <td>127</td>\n",
       "      <td>[1389.9213, 2417.8992, 1197.792, -1539.6497, 3...</td>\n",
       "    </tr>\n",
       "    <tr>\n",
       "      <th>2135</th>\n",
       "      <td>15</td>\n",
       "      <td>128</td>\n",
       "      <td>[1233.3035642304458, 2106.0893550515175, 1090....</td>\n",
       "    </tr>\n",
       "    <tr>\n",
       "      <th>2136</th>\n",
       "      <td>15</td>\n",
       "      <td>129</td>\n",
       "      <td>[1051.6998, 1956.3241, 902.8584, -1197.9872, 6...</td>\n",
       "    </tr>\n",
       "  </tbody>\n",
       "</table>\n",
       "<p>2137 rows × 3 columns</p>\n",
       "</div>"
      ],
      "text/plain": [
       "      MatchID  PeriodID                                       tweet_vector\n",
       "0           0         0  [3098.4608585517853, 6436.185963880271, 363.53...\n",
       "1           0         1  [2493.7816506992094, 5349.19354169257, 284.537...\n",
       "2           0         2  [1972.8186, 4104.4824, 323.55396, -1203.197, -...\n",
       "3           0         3  [2432.1588252037764, 5373.947940472513, 723.78...\n",
       "4           0         4  [2607.9675, 5692.466, 748.0113, -1843.9877, -3...\n",
       "...       ...       ...                                                ...\n",
       "2132       15       125  [1768.0021, 3085.3567, 1567.4435, -1976.7213, ...\n",
       "2133       15       126  [1547.5847, 2672.128, 1288.0339, -1692.0323, 4...\n",
       "2134       15       127  [1389.9213, 2417.8992, 1197.792, -1539.6497, 3...\n",
       "2135       15       128  [1233.3035642304458, 2106.0893550515175, 1090....\n",
       "2136       15       129  [1051.6998, 1956.3241, 902.8584, -1197.9872, 6...\n",
       "\n",
       "[2137 rows x 3 columns]"
      ]
     },
     "execution_count": 112,
     "metadata": {},
     "output_type": "execute_result"
    }
   ],
   "source": [
    "df_X"
   ]
  },
  {
   "cell_type": "code",
   "execution_count": 113,
   "metadata": {},
   "outputs": [
    {
     "data": {
      "text/plain": [
       "0       0\n",
       "1       0\n",
       "2       0\n",
       "3       0\n",
       "4       0\n",
       "       ..\n",
       "2132    1\n",
       "2133    1\n",
       "2134    1\n",
       "2135    1\n",
       "2136    0\n",
       "Name: EventType, Length: 2137, dtype: int64"
      ]
     },
     "execution_count": 113,
     "metadata": {},
     "output_type": "execute_result"
    }
   ],
   "source": [
    "df_y"
   ]
  },
  {
   "cell_type": "code",
   "execution_count": 114,
   "metadata": {},
   "outputs": [
    {
     "name": "stdout",
     "output_type": "stream",
     "text": [
      "(16, 180, 200)\n",
      "(16, 180)\n"
     ]
    }
   ],
   "source": [
    "# convert df_X_test and df_y_test to correct format/dimensions\n",
    "X_tensor, y_tensor = convert_df_to_3D_tensor(df_X, df_y)\n",
    "# CONVERT TO PYTORCH TENSOR\n",
    "X_tensor = torch.tensor(X_tensor, dtype=torch.float32)\n",
    "y_tensor = torch.tensor(y_tensor, dtype=torch.float32)"
   ]
  },
  {
   "cell_type": "code",
   "execution_count": 115,
   "metadata": {
    "id": "et9Eb8hEz1aC"
   },
   "outputs": [],
   "source": [
    "# NOTES\n",
    "# HOW TO MAKE SURE THAT we:\n",
    "# 1. DO NOT ignore the order of the tweets -> (LSTM)\n",
    "# 2. treat each time period as RELATED to the football match they belong to -> treat each match as a sequence, train LSTM on every sequence\n",
    "#                      since pytorch tensor expects multiple sequences (batches)\n",
    "\n",
    "\n",
    "\n",
    "# for LSTM: Each input sequence should consist of tweets from a specific match, ordered by Period ID.\n",
    "#   tweets of different matches are unrelated, but tweets of a same match are related sequentially (chronologically)\n",
    "#   structure training data such that tweets are grouped by match id, and ordered by period id"
   ]
  }
 ],
 "metadata": {
  "accelerator": "GPU",
  "colab": {
   "gpuType": "T4",
   "provenance": []
  },
  "kernelspec": {
   "display_name": "ipx_torch",
   "language": "python",
   "name": "python3"
  },
  "language_info": {
   "codemirror_mode": {
    "name": "ipython",
    "version": 3
   },
   "file_extension": ".py",
   "mimetype": "text/x-python",
   "name": "python",
   "nbconvert_exporter": "python",
   "pygments_lexer": "ipython3",
   "version": "3.9.20"
  }
 },
 "nbformat": 4,
 "nbformat_minor": 4
}
